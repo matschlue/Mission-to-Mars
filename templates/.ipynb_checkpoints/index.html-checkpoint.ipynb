{
 "cells": [
  {
   "cell_type": "code",
   "execution_count": null,
   "id": "bc6a45f2",
   "metadata": {},
   "outputs": [],
   "source": [
    "<!DOCTYPE html>\n",
    "<html lang=\"en\">\n",
    "  <head>\n",
    "    <meta charset=\"UTF-8\" />\n",
    "    <meta name=\"viewport\" content=\"width=device-width, initial-scale=1.0\" />\n",
    "    <meta http-equiv=\"X-UA-Compatible\" content=\"ie=edge\" />\n",
    "    <title>Mission to Mars</title>\n",
    "    <link\n",
    "      rel=\"stylesheet\"\n",
    "      href=\"https://maxcdn.bootstrapcdn.com/bootstrap/3.3.7/css/bootstrap.min.css\"\n",
    "    />\n",
    "  </head>\n",
    "  <body>\n",
    "    <div class=\"container\">\n",
    "      <!-- Add Jumbotron to Header -->\n",
    "      <div class=\"jumbotron text-center\">\n",
    "        <h1>Mission to Mars</h1>\n",
    "        <!-- Add a button to activate scraping script -->\n",
    "        <p><a class=\"btn btn-primary btn-lg\" href=\"/scrape\" role=\"button\">Scrape New Data</a></p>\n",
    "      </div>\n",
    "      <!-- Add section for Mars News -->\n",
    "      <div class=\"row\" id=\"mars-news\">\n",
    "        <div class=\"col-md-12\">\n",
    "          <div class=\"media\">\n",
    "            <div class=\"media-body\">\n",
    "              <h2>Latest Mars News</h2>\n",
    "              <h4 class=\"media-heading\">{{ mars.news_title }}</h4>\n",
    "              <p>{{ mars.news_paragraph }}</p>\n",
    "            </div>\n",
    "          </div>\n",
    "        </div>\n",
    "      </div>\n",
    "      <!-- Section for Featured Image and Facts table -->\n",
    "      <div class=\"row\" id=\"mars-featured-image\">\n",
    "        <div class=\"col-md-8\">\n",
    "          <h2>Featured Mars Image</h2>\n",
    "          <img\n",
    "            src=\"{{mars.featured_image }}\"\n",
    "            class=\"img-responsive\"\n",
    "            alt=\"Responsive image\"\n",
    "          />\n",
    "        </div>\n",
    "        <div class=\"col-md-4\">\n",
    "          <!-- Mars Facts -->\n",
    "          <div class=\"row\" id=\"mars-facts\">\n",
    "            <h4>Mars Facts</h4>\n",
    "            {{ mars.facts | safe }}\n",
    "          </div>\n",
    "        </div>\n",
    "      </div>\n",
    "    </div>\n",
    "  </body>\n",
    "</html>"
   ]
  }
 ],
 "metadata": {
  "kernelspec": {
   "display_name": "PythonData",
   "language": "python",
   "name": "pythondata"
  },
  "language_info": {
   "codemirror_mode": {
    "name": "ipython",
    "version": 3
   },
   "file_extension": ".py",
   "mimetype": "text/x-python",
   "name": "python",
   "nbconvert_exporter": "python",
   "pygments_lexer": "ipython3",
   "version": "3.7.11"
  }
 },
 "nbformat": 4,
 "nbformat_minor": 5
}
